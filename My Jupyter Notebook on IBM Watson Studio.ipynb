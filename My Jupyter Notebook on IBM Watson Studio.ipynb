{
    "cells": [
        {
            "metadata": {
                "collapsed": true
            },
            "cell_type": "markdown",
            "source": "# My Jupyter Notebook on IBM Watson Studio"
        },
        {
            "metadata": {},
            "cell_type": "markdown",
            "source": "Name = AMISHA BAGHEL"
        },
        {
            "metadata": {},
            "cell_type": "markdown",
            "source": "Desired_Occupation: Software engineer "
        },
        {
            "metadata": {},
            "cell_type": "markdown",
            "source": "I am interested in data science because I believe that this is a field suited to my personal strengths and talents. Throughout my degree, I have really enjoyed the challenges of working with large data sets to gain insight into underlying trends. So, this is something I want to pursue as a career."
        },
        {
            "metadata": {},
            "cell_type": "markdown",
            "source": "# The code in Cell 5 will calculate 2 squared, assign that value to a new variable and print the value of that variable."
        },
        {
            "metadata": {},
            "cell_type": "code",
            "source": "new_variable = 2**2\n\nprint(new_variable)",
            "execution_count": 1,
            "outputs": [
                {
                    "output_type": "stream",
                    "text": "4\n",
                    "name": "stdout"
                }
            ]
        },
        {
            "metadata": {},
            "cell_type": "code",
            "source": "# Horinzontal rule\nDS_tools = [\"R\", \"Python\", \"SQL\"]\nprint (DS_tools)",
            "execution_count": 2,
            "outputs": [
                {
                    "output_type": "stream",
                    "text": "['R', 'Python', 'SQL']\n",
                    "name": "stdout"
                }
            ]
        },
        {
            "metadata": {},
            "cell_type": "markdown",
            "source": "# Bulleted list"
        },
        {
            "metadata": {},
            "cell_type": "markdown",
            "source": "Number One\nMumber two\nNumber three\nNumber four"
        },
        {
            "metadata": {},
            "cell_type": "markdown",
            "source": "# Numbered list"
        },
        {
            "metadata": {},
            "cell_type": "markdown",
            "source": "Fish\nEggs\nCheese"
        },
        {
            "metadata": {},
            "cell_type": "code",
            "source": "",
            "execution_count": null,
            "outputs": []
        }
    ],
    "metadata": {
        "kernelspec": {
            "name": "python3",
            "display_name": "Python 3.6",
            "language": "python"
        },
        "language_info": {
            "name": "python",
            "version": "3.6.9",
            "mimetype": "text/x-python",
            "codemirror_mode": {
                "name": "ipython",
                "version": 3
            },
            "pygments_lexer": "ipython3",
            "nbconvert_exporter": "python",
            "file_extension": ".py"
        }
    },
    "nbformat": 4,
    "nbformat_minor": 1
}